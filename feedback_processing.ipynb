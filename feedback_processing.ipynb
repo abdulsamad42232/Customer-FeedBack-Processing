{
 "cells": [
  {
   "cell_type": "code",
   "execution_count": 10,
   "id": "625041cb",
   "metadata": {},
   "outputs": [],
   "source": [
    "# feedback_processing.py\n",
    "\n",
    "# Step 1: Reading the File\n",
    "def read_file(file_path):\n",
    "    with open(file_path, 'r') as file:\n",
    "        lines = file.readlines()\n",
    "    return lines\n",
    "\n",
    "feedback_file_path = 'customer_feedback.txt'\n",
    "feedback_entries = read_file(feedback_file_path)\n"
   ]
  },
  {
   "cell_type": "code",
   "execution_count": 11,
   "id": "6eff6438",
   "metadata": {},
   "outputs": [
    {
     "data": {
      "text/plain": [
       "['The service was good and the staff was excellent.\\n',\n",
       " 'The product quality was poor.\\n',\n",
       " 'I had a good experience overall.\\n',\n",
       " 'The delivery time was bad and the packaging was poor.\\n',\n",
       " 'The support team was excellent and very helpful.\\n',\n",
       " 'The interface is good, but the performance is poor.\\n',\n",
       " 'My experience with the customer service was bad.\\n',\n",
       " 'I received excellent assistance from the support staff.\\n',\n",
       " 'The quality of the product was good, but the packaging was bad.\\n',\n",
       " 'The transaction process was excellent, and I am very satisfied.\\n',\n",
       " 'The website design is good, but the navigation is poor.\\n',\n",
       " 'The response time from the support team was excellent.\\n',\n",
       " 'The delivery was on time and the packaging was good.\\n',\n",
       " 'I had a poor experience with the customer support.\\n',\n",
       " 'The product met my expectations and the quality was good.\\n',\n",
       " 'The staff was good, but the wait time was poor.\\n',\n",
       " 'The app interface is excellent and user-friendly.\\n',\n",
       " 'I had a bad experience with the return process.\\n',\n",
       " 'The support team was good and resolved my issue quickly.\\n',\n",
       " 'The product quality was excellent and I am very happy.\\n',\n",
       " 'The delivery time was poor, but the product quality is good.\\n',\n",
       " 'I had a good experience with the customer service.\\n',\n",
       " 'The transaction was smooth and the service was excellent.\\n',\n",
       " 'The product was bad and I had to return it.\\n',\n",
       " 'The packaging was excellent and the product was undamaged.\\n',\n",
       " 'The support was bad and took too long to respond.\\n',\n",
       " 'I had a poor experience with the online ordering system.\\n',\n",
       " 'The product quality is good, but the delivery was bad.\\n',\n",
       " 'The staff was excellent and very professional.\\n',\n",
       " 'The user experience on the website is good.\\n',\n",
       " 'The product quality was excellent and I am very satisfied.\\n',\n",
       " 'The product quality was good, but the customer service was poor.\\n',\n",
       " 'The delivery was bad, but the packaging was good.\\n',\n",
       " 'The support team was excellent and resolved my issue quickly.\\n',\n",
       " 'The product was poor and did not meet my expectations.\\n',\n",
       " 'The website design is good, but the checkout process is poor.\\n',\n",
       " 'The service was excellent and very professional.\\n',\n",
       " 'The product quality was good, but the shipping was slow.\\n',\n",
       " 'The customer service was poor and unhelpful.\\n',\n",
       " 'The support team was good, but the response time was poor.\\n',\n",
       " 'The product was excellent and arrived on time.\\n',\n",
       " 'The packaging was good and the product was undamaged.\\n',\n",
       " 'The service was bad and I am very disappointed.\\n',\n",
       " 'The product quality was excellent and worth the price.\\n',\n",
       " 'The delivery was good, but the packaging was poor.\\n',\n",
       " 'The customer service was excellent and very helpful.\\n',\n",
       " 'The support team was good, but the wait time was poor.\\n',\n",
       " 'The service was excellent and very professional. The customer \\n',\n",
       " 'service was bad and unresponsive.\\n',\n",
       " 'The product was good, but the price was too high.\\n',\n",
       " 'I had an excellent experience with the support team.\\n',\n",
       " 'The product quality is poor and not as advertised.\\n',\n",
       " 'The customer service was good and resolved my issue.\\n',\n",
       " 'The delivery was bad and delayed by several days.\\n',\n",
       " 'The product was excellent and exceeded my expectations.\\n',\n",
       " 'The support team was good, but the wait time was poor.\\n',\n",
       " 'The website interface is good, but the loading time is bad.\\n',\n",
       " 'The transaction process was smooth and excellent.\\n',\n",
       " 'I had a bad experience with the product quality.\\n',\n",
       " 'The support was excellent and resolved my issue promptly.\\n',\n",
       " 'The product quality is good, but the price is high.\\n',\n",
       " 'The delivery was poor and the package was damaged.\\n',\n",
       " 'I had an excellent experience with the customer service.\\n',\n",
       " 'The product was good and as described.\\n',\n",
       " 'The staff was excellent and very helpful.\\n',\n",
       " 'The packaging was poor and the product was damaged.\\n',\n",
       " 'The support team was good and assisted me well.\\n',\n",
       " 'The quality of the product was poor and disappointing.\\n',\n",
       " 'I had a good experience with the return process.\\n',\n",
       " 'The product was excellent and arrived on time.\\n',\n",
       " 'The customer service was bad and unhelpful.\\n',\n",
       " 'The website design is excellent and very intuitive.\\n',\n",
       " 'The product was good, but the shipping was slow.\\n',\n",
       " 'I had a poor experience with the support team.\\n',\n",
       " 'The quality of the service was excellent.\\n',\n",
       " 'The product was poor and not worth the price.\\n',\n",
       " 'The delivery was excellent and very fast.\\n',\n",
       " 'The customer service was good, but the product was bad.\\n',\n",
       " 'The support team was excellent and very knowledgeable.\\n',\n",
       " 'The packaging was good, but the product was damaged.\\n',\n",
       " 'I had a good experience with the website.\\n',\n",
       " 'The delivery time was bad, but the product was good.\\n',\n",
       " 'The customer service was excellent and very responsive.\\n',\n",
       " 'The product was bad and I am very disappointed.\\n',\n",
       " 'The packaging was poor, but the product was good.\\n',\n",
       " 'The support was good, but the wait time was too long.\\n',\n",
       " 'I had an excellent experience with the service.\\n',\n",
       " 'The product was poor and I had to return it.\\n',\n",
       " 'The support team was good and assisted me well.\\n',\n",
       " 'The quality of the product was good, but the delivery was bad.\\n',\n",
       " 'The service was excellent and met my expectations.\\n',\n",
       " 'The product was good, but the support was poor.\\n',\n",
       " 'The packaging was excellent and very secure.\\n',\n",
       " 'The delivery time was poor, but the product quality was good.\\n',\n",
       " 'The customer service was good and resolved my issue quickly.\\n',\n",
       " 'The product was bad and I am very unhappy.\\n',\n",
       " 'The support team was excellent and very friendly.\\n',\n",
       " 'The quality of the product was poor and disappointing']"
      ]
     },
     "execution_count": 11,
     "metadata": {},
     "output_type": "execute_result"
    }
   ],
   "source": [
    "feedback_entries"
   ]
  },
  {
   "cell_type": "code",
   "execution_count": 12,
   "id": "80d5a7e6",
   "metadata": {},
   "outputs": [
    {
     "name": "stdout",
     "output_type": "stream",
     "text": [
      "Total feedback entries: 98\n"
     ]
    }
   ],
   "source": [
    "# Step 2: Counting Feedback Entries\n",
    "total_feedback = len(feedback_entries)\n",
    "print(f\"Total feedback entries: {total_feedback}\")\n"
   ]
  },
  {
   "cell_type": "code",
   "execution_count": 13,
   "id": "a494961e",
   "metadata": {},
   "outputs": [],
   "source": [
    "# Step 3: Extracting Keywords\n",
    "keywords = [\"good\", \"bad\", \"excellent\", \"poor\"]\n",
    "\n",
    "def extract_keywords(feedback):\n",
    "    keyword_counts = {key: 0 for key in keywords}\n",
    "    for entry in feedback:\n",
    "        for keyword in keywords:\n",
    "            if keyword in entry.lower():\n",
    "                keyword_counts[keyword] += 1\n",
    "    return keyword_counts\n",
    "\n",
    "keyword_counts = extract_keywords(feedback_entries)\n"
   ]
  },
  {
   "cell_type": "code",
   "execution_count": 14,
   "id": "4b8ae6f1",
   "metadata": {},
   "outputs": [
    {
     "name": "stdout",
     "output_type": "stream",
     "text": [
      "Total number of feedback entries: 98\n",
      "Keyword occurrences:\n",
      "good: 41\n",
      "bad: 19\n",
      "excellent: 33\n",
      "poor: 27\n",
      "\n"
     ]
    }
   ],
   "source": [
    "# Step 5: Generating a Summary Report\n",
    "def generate_summary(total, keyword_counts):\n",
    "    summary = f\"Total number of feedback entries: {total}\\n\"\n",
    "    summary += \"Keyword occurrences:\\n\"\n",
    "    for keyword, count in keyword_counts.items():\n",
    "        summary += f\"{keyword}: {count}\\n\"\n",
    "    return summary\n",
    "\n",
    "summary_report = generate_summary(total_feedback, keyword_counts)\n",
    "print(summary_report)\n"
   ]
  },
  {
   "cell_type": "code",
   "execution_count": 16,
   "id": "a6f765c6",
   "metadata": {},
   "outputs": [
    {
     "name": "stdout",
     "output_type": "stream",
     "text": [
      "Report saved successfully at C:\\Users\\User\\Python Course SMIT\\CustomerFeedbackProcessing\\summary_report.txt\n"
     ]
    }
   ],
   "source": [
    "# Step 6: Saving the Report\n",
    "def save_report(report, file_path):\n",
    "    with open(file_path, 'w') as file:\n",
    "        file.write(report)\n",
    "\n",
    "report_file_path = r\"C:\\Users\\User\\Python Course SMIT\\CustomerFeedbackProcessing\\summary_report.txt\"\n",
    "\n",
    "# Save the report\n",
    "save_report(summary_report, report_file_path)\n",
    "print(f\"Report saved successfully at {report_file_path}\")"
   ]
  },
  {
   "cell_type": "code",
   "execution_count": null,
   "id": "e28d4f75",
   "metadata": {},
   "outputs": [],
   "source": []
  },
  {
   "cell_type": "code",
   "execution_count": null,
   "id": "31d5388c",
   "metadata": {},
   "outputs": [],
   "source": []
  }
 ],
 "metadata": {
  "kernelspec": {
   "display_name": "Python 3 (ipykernel)",
   "language": "python",
   "name": "python3"
  },
  "language_info": {
   "codemirror_mode": {
    "name": "ipython",
    "version": 3
   },
   "file_extension": ".py",
   "mimetype": "text/x-python",
   "name": "python",
   "nbconvert_exporter": "python",
   "pygments_lexer": "ipython3",
   "version": "3.11.5"
  }
 },
 "nbformat": 4,
 "nbformat_minor": 5
}
